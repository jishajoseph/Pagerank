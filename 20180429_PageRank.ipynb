{
 "cells": [
  {
   "cell_type": "markdown",
   "metadata": {},
   "source": [
    "# Page Rank implementation in Python"
   ]
  },
  {
   "cell_type": "markdown",
   "metadata": {
    "collapsed": true
   },
   "source": [
    "#igraph is required- please download the whl and install "
   ]
  },
  {
   "cell_type": "markdown",
   "metadata": {},
   "source": [
    "#!pip install python_igraph-0.7.1.post6-cp27-none-win_amd64.whl\n",
    "#conda install -c marufr python-igraph\n",
    "#!pip install python-igraph"
   ]
  },
  {
   "cell_type": "code",
   "execution_count": 10,
   "metadata": {
    "scrolled": true
   },
   "outputs": [
    {
     "name": "stderr",
     "output_type": "stream",
     "text": [
      "Traceback (most recent call last):\n",
      "  File \"C:\\Users\\Hp\\Anaconda3\\Scripts\\pip-script.py\", line 6, in <module>\n",
      "    from pip import main\n",
      "ImportError: cannot import name 'main'\n"
     ]
    }
   ],
   "source": [
    "!pip install python_igraph-0.7.1.post6-cp27-none-win_amd64.whl\n",
    "#import igraph"
   ]
  },
  {
   "cell_type": "code",
   "execution_count": 3,
   "metadata": {},
   "outputs": [
    {
     "name": "stdout",
     "output_type": "stream",
     "text": [
      "IGRAPH U--- 0 0 --\n"
     ]
    }
   ],
   "source": [
    "##create an empty graph\n",
    "g= igraph.Graph()\n",
    "\n",
    "##lets look at the empty graph\n",
    "print(g) ##Nothing right!!"
   ]
  },
  {
   "cell_type": "code",
   "execution_count": 4,
   "metadata": {
    "collapsed": true
   },
   "outputs": [],
   "source": [
    "## manually provide edges and vertices. We know that \n",
    "## vertices are webpages and edges are the links\n",
    "\n",
    "g.add_vertices(4)\n",
    "g.add_edges([(0,0),(0,2),(0,1),(1,2),(1,3),(3,2),(2,0),(3,1)])\n",
    "\n",
    "#Lets print and save the graph\n",
    "g.write_svg(\"test.svg\")"
   ]
  },
  {
   "cell_type": "code",
   "execution_count": 5,
   "metadata": {
    "collapsed": true
   },
   "outputs": [],
   "source": [
    "##How to obtain a directed graph\n",
    "g= igraph.Graph(directed=True)\n",
    "g.add_vertices(4)\n",
    "g.add_edges([(0,0),(0,2),(0,1),(1,2),(1,3),(3,2),(2,0),(3,1)])\n",
    "\n",
    "#Lets print and save the graph\n",
    "g.write_svg(\"test.svg\")"
   ]
  },
  {
   "cell_type": "code",
   "execution_count": 6,
   "metadata": {},
   "outputs": [
    {
     "data": {
      "text/plain": [
       "[0.3911496350364964,\n",
       " 0.20047381226789598,\n",
       " 0.28567518248175183,\n",
       " 0.12270137021385581]"
      ]
     },
     "execution_count": 6,
     "metadata": {},
     "output_type": "execute_result"
    }
   ],
   "source": [
    "##PageRank for all 4 nodes\n",
    "g.pagerank()"
   ]
  }
 ],
 "metadata": {
  "anaconda-cloud": {},
  "kernelspec": {
   "display_name": "Python 3",
   "language": "python",
   "name": "python3"
  },
  "language_info": {
   "codemirror_mode": {
    "name": "ipython",
    "version": 3
   },
   "file_extension": ".py",
   "mimetype": "text/x-python",
   "name": "python",
   "nbconvert_exporter": "python",
   "pygments_lexer": "ipython3",
   "version": "3.6.3"
  }
 },
 "nbformat": 4,
 "nbformat_minor": 1
}
